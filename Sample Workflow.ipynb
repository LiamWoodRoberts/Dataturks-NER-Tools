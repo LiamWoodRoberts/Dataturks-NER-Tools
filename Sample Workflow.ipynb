{
 "cells": [
  {
   "cell_type": "markdown",
   "metadata": {},
   "source": [
    "# Sample Workflow for Dataturks NER Tools"
   ]
  },
  {
   "cell_type": "code",
   "execution_count": 1,
   "metadata": {},
   "outputs": [],
   "source": [
    "# Local Modules\n",
    "from formatting import format_labelled_data,format_unlabelled_data\n",
    "from training import train_crf\n",
    "from pre_annotate import pre_annotate_unlabelled"
   ]
  },
  {
   "cell_type": "markdown",
   "metadata": {},
   "source": [
    "## Modules:\n",
    "\n",
    "The repo is broken down into three main files:\n",
    "\n",
    "1. formatting.py\n",
    "2. training.py\n",
    "3. pre_annotate.py\n",
    "\n",
    "## Sample Workflow:\n",
    "\n",
    "Say you have just completed your first batch of annotations for a project using Dataturks.\n",
    "\n",
    "You have the unlabelled data you initially uploaded as well as the next batch you would like to annotate saved, respectively, as:\n",
    "\n",
    " - #### /data/unlabelled/unlabelled_batch_1.txt\n",
    " - #### /data/unlabelled/unlabelled_batch_2.txt\n",
    "\n",
    "The annotations you made for batch 1 through Dataturks were downloaded in \"Standard NER Format\" and saved as:\n",
    "\n",
    "- #### /data/labelled/labelled_batch_1.tsv\n",
    "\n",
    "Additionally you have folders for you models and pre_annotated data:\n",
    "- #### models/\n",
    "- #### data/pre_annotations/\n",
    "\n",
    "And a file to keep your results in:\n",
    "- #### data/model_results.csv\n",
    "\n",
    "With this set up you could use each file in the following ways.\n",
    "\n",
    "### Using formatting.py:\n",
    "\n",
    "This file is called by the others to format unlabelled and labelled data before passing it to a CRF model. \n",
    "\n",
    "You can use <code>format_unlabelled_data()</code> for .txt files formatted for upload to Dataturks:"
   ]
  },
  {
   "cell_type": "code",
   "execution_count": 2,
   "metadata": {},
   "outputs": [
    {
     "name": "stdout",
     "output_type": "stream",
     "text": [
      "----------------------------------------\n",
      "Formatting Unlabelled Data...\n",
      "----------------------------------------\n",
      "\n",
      "Raw Text:\n",
      "HISTORY OF PRESENT ILLNESS 41-year-old black gentleman status post Nissen fundoplication five years ago\n",
      "\n",
      "Token Sample:\n",
      "['HISTORY', 'OF', 'PRESENT', 'ILLNESS', '41-year-old', 'black', 'gentleman', 'status', 'post', 'Nissen', 'fundoplication', 'five', 'years', 'ago']\n",
      "\n",
      "First Word Features:\n",
      "{'bias': 1.0, 'word.lower()': 'history', 'word[-3:]': 'ORY', 'word[-2:]': 'RY', 'word.isupper()': True, 'word.istitle()': False, 'word.isdigit()': False, 'postag': 'NN', 'postag[:2]': 'NN', 'BOS': True, '+1:word.lower()': 'of', '+1:word.istitle()': False, '+1:word.isupper()': True, '+1:postag': 'NNP', '+1:postag[:2]': 'NN'} \n",
      "\n"
     ]
    }
   ],
   "source": [
    "# Test Unlabelled Data Formatting\n",
    "title(\"Formatting Unlabelled Data...\")\n",
    "unlabelled_file = \"./data/unlabelled/unlabelled_batch_1.txt\"\n",
    "x,tokens = format_unlabelled_data(unlabelled_file)\n",
    "print(\"\\nRaw Text:\")\n",
    "print(' '.join([a for a,b in tokens[0]]))\n",
    "print(\"\\nToken Sample:\")\n",
    "print([a for a,b in tokens[0]])\n",
    "print(\"\\nFirst Word Features:\")\n",
    "print(x[0][0],\"\\n\")"
   ]
  },
  {
   "cell_type": "markdown",
   "metadata": {},
   "source": [
    "You can use <code>format_labelled_data()</code> for data that has been annotated and downloaded as .tsv from dataturks:"
   ]
  },
  {
   "cell_type": "code",
   "execution_count": 3,
   "metadata": {},
   "outputs": [
    {
     "name": "stdout",
     "output_type": "stream",
     "text": [
      "----------------------------------------\n",
      "Formatting Labelled Data...\n",
      "----------------------------------------\n",
      "\n",
      "Raw Text:\n",
      "HISTORY OF PRESENT ILLNESS 41-year-old black gentleman status post Nissen fundoplication five years ago\n",
      "\n",
      "Text Sample:\n",
      "['HISTORY', 'OF', 'PRESENT', 'ILLNESS', '41-year-old', 'black', 'gentleman', 'status', 'post', 'Nissen', 'fundoplication', 'five', 'years', 'ago']\n",
      "\n",
      "Label Sample:\n",
      "['O', 'O', 'O', 'O', 'B-Age', 'O', 'B-Gender', 'O', 'O', 'B-Procedure', 'I-Procedure', 'B-Time', 'I-Time', 'I-Time']\n",
      "\n",
      "First Word Features:\n",
      "{'bias': 1.0, 'word.lower()': 'history', 'word[-3:]': 'ORY', 'word[-2:]': 'RY', 'word.isupper()': True, 'word.istitle()': False, 'word.isdigit()': False, 'postag': 'NN', 'postag[:2]': 'NN', 'BOS': True, '+1:word.lower()': 'of', '+1:word.istitle()': False, '+1:word.isupper()': True, '+1:postag': 'NNP', '+1:postag[:2]': 'NN'} \n",
      "\n"
     ]
    }
   ],
   "source": [
    "labelled_files = [\"./data/labelled/labelled_batch_1.tsv\"]\n",
    "\n",
    "title(\"Formatting Labelled Data...\")\n",
    "x,y,tokens = format_labelled_data(labelled_files)\n",
    "print(\"\\nRaw Text:\")\n",
    "print(\" \".join(tokens[0]))\n",
    "print(\"\\nText Sample:\")\n",
    "print(tokens[0])\n",
    "print(\"\\nLabel Sample:\")\n",
    "print(y[0])\n",
    "print(\"\\nFirst Word Features:\")\n",
    "print(x[0][0],\"\\n\")"
   ]
  },
  {
   "cell_type": "markdown",
   "metadata": {},
   "source": [
    "### Using training.py\n",
    "\n",
    "You can use training.py to train and evaluate CRF models with the downloaded annotated data. Simply call the <code>train_crf()</code> function and pass it the file name to get a baseline CRF model."
   ]
  },
  {
   "cell_type": "code",
   "execution_count": 4,
   "metadata": {},
   "outputs": [
    {
     "name": "stdout",
     "output_type": "stream",
     "text": [
      "----------------------------------------\n",
      "Testing CRF training...\n",
      "----------------------------------------\n",
      "Test Results:\n",
      "\n",
      "------------------------------------------------------------\n",
      "                            precision    recall  f1-score   support\n",
      "\n",
      "                      Dose       0.99      0.89      0.94        76\n",
      "                       DOS       0.75      0.76      0.76       525\n",
      "                     Route       0.97      0.87      0.92        70\n",
      "                 Procedure       0.79      0.68      0.73       157\n",
      "                      Time       0.74      0.74      0.74        78\n",
      "                 Condition       0.77      0.81      0.79       246\n",
      "                      Date       0.93      0.86      0.89        58\n",
      "                      Drug       0.90      0.87      0.88       200\n",
      "                      BODY       0.76      0.64      0.70       127\n",
      "                       GEO       0.93      0.96      0.95       148\n",
      "Other Measurement / Result       0.62      0.58      0.60       155\n",
      "                 Frequency       0.93      0.52      0.67        27\n",
      "          Respiratory Rate       1.00      0.70      0.82        20\n",
      "                  Quantity       0.88      0.54      0.67        41\n",
      "                Heart Rate       0.71      0.76      0.73        29\n",
      "                    Gender       0.93      0.97      0.95        29\n",
      "          Test / Screening       0.94      0.79      0.85       131\n",
      "          Accident / Event       0.78      0.47      0.58        15\n",
      "                       Age       0.98      1.00      0.99        41\n",
      "            Blood Pressure       0.90      0.64      0.74        55\n",
      "        Patient Relocation       0.97      0.90      0.93       125\n",
      "             O2 Saturation       0.74      0.74      0.74        34\n",
      "                       POI       0.78      0.56      0.65        25\n",
      "               Temperature       0.92      0.88      0.90        25\n",
      "                  Duration       0.87      0.74      0.80        27\n",
      "\n",
      "                 micro avg       0.82      0.77      0.80      2464\n",
      "                 macro avg       0.83      0.77      0.80      2464\n",
      "\n",
      "------------------------------------------------------------\n",
      "Results Successfully Saved to: ./data/model_results.csv\n",
      "------------------------------------------------------------\n",
      "------------------------------------------------------------\n",
      "Model Successfully Saved as: ./models/crf_Thu_Jan__2_19:06:58_2020\n",
      "------------------------------------------------------------\n"
     ]
    }
   ],
   "source": [
    "title(\"Testing CRF training...\")\n",
    "crf = train_crf(labelled_files)"
   ]
  },
  {
   "cell_type": "markdown",
   "metadata": {},
   "source": [
    "By default this will give you an evaluation of every entity that is being labelled, save the overall F1-Score and save the model.\n",
    "\n",
    "## Using pre_annotate.py\n",
    "\n",
    "Now that you have a saved model you can use it to pre_annotate your next batch of unlabelled data. Using pre-annotated data will greatly speed up the annotation process and almost entirely eliminate time taken on some of the easier NER tags. Simpy pass in the saved CRF model, the unlabelled file and the new save file to th function <code>pre_annotate_unlabelled()</code> and the script will pre-annotate your data and format it so it can be immediately uploaded to Dataturks."
   ]
  },
  {
   "cell_type": "code",
   "execution_count": 5,
   "metadata": {},
   "outputs": [
    {
     "name": "stdout",
     "output_type": "stream",
     "text": [
      "----------------------------------------\n",
      "Getting Predictions for Unannotated Data...\n",
      "----------------------------------------\n",
      "----------------------------------------\n",
      "Annotations Saved to: ./data/pre_annotated/pre_annotated_batch_2.txt\n",
      "----------------------------------------\n",
      "\n",
      "Sample Raw Text:\n",
      "HISTORY OF PRESENT ILLNESS 80 Russian female with h/o CAD, AF s/p PPM, HTN, CHF EF 45-50% , CRI Cr 1.5 , lung CA s/p resection in 2153 , chronic pain who presents to the ED with complaints of progressive LE pain and weakness over the past several days to weeks\n",
      "\n",
      "Sample Prediction:\n",
      "[['HISTORY', 'O'], ['OF', 'O'], ['PRESENT', 'O'], ['ILLNESS', 'O'], ['80', 'Age'], ['Russian', 'O'], ['female', 'Gender'], ['with', 'O'], ['h/o', 'O'], ['CAD, AF', 'Condition'], ['s/p', 'O'], ['PPM, HTN, CHF', 'Condition'], ['EF 45-50%', 'Other Measurement / Result'], [',', 'O'], ['CRI Cr 1.5', 'Other Measurement / Result'], [',', 'O'], ['lung', 'BODY'], ['CA', 'Condition'], ['s/p', 'O'], ['resection', 'Procedure'], ['in', 'O'], ['2153', 'Date'], [',', 'O'], ['chronic', 'Frequency'], ['pain', 'DOS'], ['who', 'O'], ['presents', 'Patient Relocation'], ['to', 'O'], ['the ED', 'GEO'], ['with', 'O'], ['complaints', 'O'], ['of', 'O'], ['progressive', 'O'], ['LE pain', 'DOS'], ['and', 'O'], ['weakness', 'DOS'], ['over', 'O'], ['the', 'O'], ['past several days to weeks', 'Time']]\n",
      "\n",
      " ----------------------------------------\n"
     ]
    }
   ],
   "source": [
    "crf_path = \"./models/crf_Thu_Jan__2_19:06:58_2020\"\n",
    "unlabelled_file = \"./data/unlabelled/unlabelled_batch_2.txt\"\n",
    "save_file = \"./data/pre_annotated/pre_annotated_batch_2.txt\"\n",
    "ignore_tags = [\"O\"]\n",
    "title(\"Getting Predictions for Unannotated Data...\")\n",
    "\n",
    "# Load Model, Generate Pre-Annotated File\n",
    "pre_annotate_unlabelled(crf_path,unlabelled_file,save_file,ignore_tags)"
   ]
  },
  {
   "cell_type": "markdown",
   "metadata": {},
   "source": [
    "The annotations saved can be directly be uploaded to Dataturks where the model can take care of some of the easier NER categories.\n",
    "\n",
    "---"
   ]
  }
 ],
 "metadata": {
  "kernelspec": {
   "display_name": "Python [conda env:keras36]",
   "language": "python",
   "name": "conda-env-keras36-py"
  },
  "language_info": {
   "codemirror_mode": {
    "name": "ipython",
    "version": 3
   },
   "file_extension": ".py",
   "mimetype": "text/x-python",
   "name": "python",
   "nbconvert_exporter": "python",
   "pygments_lexer": "ipython3",
   "version": "3.6.9"
  }
 },
 "nbformat": 4,
 "nbformat_minor": 2
}
